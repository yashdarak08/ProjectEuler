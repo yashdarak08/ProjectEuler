{
 "cells": [
  {
   "cell_type": "markdown",
   "id": "d0f44d53",
   "metadata": {},
   "source": [
    "Problem 3: [Largest prime factor](https://projecteuler.net/problem=3)\n",
    "\n",
    "The prime factors of 13195 are 5, 7, 13 and 29. \\\n",
    "What is the largest prime factor of the number 600851475143?"
   ]
  },
  {
   "cell_type": "code",
   "execution_count": null,
   "id": "c93b191f",
   "metadata": {},
   "outputs": [],
   "source": [
    "def func():\n",
    "\n",
    "    "
   ]
  }
 ],
 "metadata": {
  "language_info": {
   "name": "python"
  }
 },
 "nbformat": 4,
 "nbformat_minor": 5
}
