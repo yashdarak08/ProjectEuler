{
 "cells": [
  {
   "cell_type": "markdown",
   "id": "d0f44d53",
   "metadata": {},
   "source": [
    "Problem 3: [Largest prime factor](https://projecteuler.net/problem=3)\n",
    "\n",
    "The prime factors of 13195 are 5, 7, 13 and 29. \\\n",
    "What is the largest prime factor of the number 600851475143?"
   ]
  },
  {
   "cell_type": "code",
   "execution_count": 13,
   "id": "c93b191f",
   "metadata": {},
   "outputs": [],
   "source": [
    "import math\n",
    "\n",
    "def func(n):\n",
    "\n",
    "    prime_factors = set()\n",
    "    \n",
    "    while n % 2 == 0:\n",
    "        prime_factors.add(2)\n",
    "        n = n/2\n",
    "    \n",
    "    for i in range(3, int(math.sqrt(n))+1, 2):\n",
    "\n",
    "        while n % i == 0:\n",
    "            prime_factors.add(i)\n",
    "            n = n/i\n",
    "        \n",
    "    if n > 2:\n",
    "        prime_factors.add(n)\n",
    "\n",
    "    return max(prime_factors)\n"
   ]
  },
  {
   "cell_type": "code",
   "execution_count": 14,
   "id": "c2d60b55",
   "metadata": {},
   "outputs": [
    {
     "name": "stdout",
     "output_type": "stream",
     "text": [
      "The largest of 600851475143 is: 6857\n"
     ]
    }
   ],
   "source": [
    "num = 600851475143\n",
    "print(f\"The largest of {num} is: {func(num)}\")"
   ]
  }
 ],
 "metadata": {
  "kernelspec": {
   "display_name": "Python 3",
   "language": "python",
   "name": "python3"
  },
  "language_info": {
   "codemirror_mode": {
    "name": "ipython",
    "version": 3
   },
   "file_extension": ".py",
   "mimetype": "text/x-python",
   "name": "python",
   "nbconvert_exporter": "python",
   "pygments_lexer": "ipython3",
   "version": "3.13.2"
  }
 },
 "nbformat": 4,
 "nbformat_minor": 5
}
