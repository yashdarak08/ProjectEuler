{
 "cells": [
  {
   "cell_type": "markdown",
   "id": "4ca7a589",
   "metadata": {},
   "source": [
    "Problem 4: [Largest Palindrome Product](https://projecteuler.net/problem=4)\n",
    "\n",
    "A palindromic number reads the same both ways. The largest palindrome made from the product of two 2-digit numbers is 9009 (91 × 99). \\\n",
    "Find the largest palindrome made from the product of two 3-digit numbers."
   ]
  },
  {
   "cell_type": "code",
   "execution_count": 1,
   "id": "6e93eb5f",
   "metadata": {},
   "outputs": [],
   "source": [
    "def is_palindrome(n):\n",
    "    return str(n) == str(n)[::-1]\n",
    "\n",
    "def largest_palindrome_product():\n",
    "    max_palindrome = 0\n",
    "    for i in range(999, 99, -1):\n",
    "        for j in range(i, 99, -1): \n",
    "            product = i * j\n",
    "            if product <= max_palindrome:\n",
    "                break\n",
    "            if is_palindrome(product):\n",
    "                max_palindrome = product\n",
    "    return max_palindrome"
   ]
  },
  {
   "cell_type": "code",
   "execution_count": 2,
   "id": "0d5b810f",
   "metadata": {},
   "outputs": [
    {
     "name": "stdout",
     "output_type": "stream",
     "text": [
      "The answer is 906609\n"
     ]
    }
   ],
   "source": [
    "print(f\"The answer is {largest_palindrome_product()}\")"
   ]
  },
  {
   "cell_type": "code",
   "execution_count": null,
   "id": "e57b5d30",
   "metadata": {},
   "outputs": [],
   "source": []
  }
 ],
 "metadata": {
  "kernelspec": {
   "display_name": "Python 3",
   "language": "python",
   "name": "python3"
  },
  "language_info": {
   "codemirror_mode": {
    "name": "ipython",
    "version": 3
   },
   "file_extension": ".py",
   "mimetype": "text/x-python",
   "name": "python",
   "nbconvert_exporter": "python",
   "pygments_lexer": "ipython3",
   "version": "3.13.2"
  }
 },
 "nbformat": 4,
 "nbformat_minor": 5
}
