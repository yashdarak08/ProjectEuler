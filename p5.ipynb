{
 "cells": [
  {
   "cell_type": "markdown",
   "id": "4ca7a589",
   "metadata": {},
   "source": [
    "Problem 5: [Smallest Multiple](https://projecteuler.net/problem=5)\n",
    "\n",
    "2520 is the smallest number that can be divided by each of the numbers from 1 to 10 without any remainder. \\\n",
    "What is the smallest positive number that is evenly divisible by all of the numbers from 1 to 20?"
   ]
  },
  {
   "cell_type": "code",
   "execution_count": 1,
   "id": "6e93eb5f",
   "metadata": {},
   "outputs": [],
   "source": [
    "import math\n",
    "from collections import defaultdict\n",
    "\n",
    "def prime_factorization(num):\n",
    "    prime_factors = defaultdict(int)\n",
    "    \n",
    "    while num % 2 == 0:\n",
    "        prime_factors[2] += 1\n",
    "        num = num // 2\n",
    "    \n",
    "    for i in range(3, int(math.sqrt(num))+1, 2):\n",
    "\n",
    "        while num % i == 0:\n",
    "            prime_factors[i] += 1\n",
    "            num = num // i\n",
    "        \n",
    "    if num > 2:\n",
    "        prime_factors[num] += 1\n",
    "\n",
    "    return prime_factors\n",
    "\n",
    "def smallest_multiple(number):\n",
    "\n",
    "    store = defaultdict(int)\n",
    "\n",
    "    for num in range(1, number+1):\n",
    "        prime_factors = prime_factorization(num)\n",
    "        for prime_factor, freq in prime_factors.items():\n",
    "            if freq > store[prime_factor]:\n",
    "                store[prime_factor] = freq\n",
    "\n",
    "    final_ans = 1\n",
    "    for prime_factor, freq in store.items():\n",
    "        for i in range(freq):\n",
    "            final_ans = final_ans * prime_factor\n",
    "        \n",
    "    return final_ans"
   ]
  },
  {
   "cell_type": "code",
   "execution_count": 3,
   "id": "0d5b810f",
   "metadata": {},
   "outputs": [
    {
     "name": "stdout",
     "output_type": "stream",
     "text": [
      "The answer is 232792560\n"
     ]
    }
   ],
   "source": [
    "print(f\"The answer is {smallest_multiple(20)}\")"
   ]
  }
 ],
 "metadata": {
  "kernelspec": {
   "display_name": "Python 3",
   "language": "python",
   "name": "python3"
  },
  "language_info": {
   "codemirror_mode": {
    "name": "ipython",
    "version": 3
   },
   "file_extension": ".py",
   "mimetype": "text/x-python",
   "name": "python",
   "nbconvert_exporter": "python",
   "pygments_lexer": "ipython3",
   "version": "3.13.2"
  }
 },
 "nbformat": 4,
 "nbformat_minor": 5
}
