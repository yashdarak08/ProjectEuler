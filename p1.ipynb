{
 "cells": [
  {
   "cell_type": "markdown",
   "id": "62f2e31e",
   "metadata": {},
   "source": [
    "Problem 1: [Multiples of 3 or 5](https://projecteuler.net/problem=1)\n",
    "\n",
    "If we list all the natural numbers below 10 that are multiples of 3 or 5, we get 3, 5, 6, 9. The sum of these multiples is 23. \\\n",
    "Find the sum of all the multiples of 3 or 5 below 1000."
   ]
  },
  {
   "cell_type": "code",
   "execution_count": 20,
   "id": "08fa0543",
   "metadata": {},
   "outputs": [],
   "source": [
    "# Write a function to calculate the sum of all multiples of 3 or 5 below a given number.\n",
    "# The function should return the sum and the number of multiples found. \n",
    "def func(num):\n",
    "    result = 0\n",
    "    count = 0\n",
    "\n",
    "    for i in range(1, num):\n",
    "        if i%3 == 0:\n",
    "            result += i\n",
    "            count += 1\n",
    "            # print(i)\n",
    "            continue\n",
    "\n",
    "        if i%5 == 0:\n",
    "            result += i\n",
    "            count +=1\n",
    "            # print(i) \n",
    "        \n",
    "    return result, count    "
   ]
  },
  {
   "cell_type": "code",
   "execution_count": 23,
   "id": "7d903773",
   "metadata": {},
   "outputs": [
    {
     "name": "stdout",
     "output_type": "stream",
     "text": [
      "The answer is: 233168\n",
      "The number of multiples is: 466\n"
     ]
    }
   ],
   "source": [
    "result, count = func(1000)\n",
    "print(F\"The answer is: {result}\")\n",
    "print(F\"The number of multiples is: {count}\")"
   ]
  }
 ],
 "metadata": {
  "kernelspec": {
   "display_name": "Python 3",
   "language": "python",
   "name": "python3"
  },
  "language_info": {
   "codemirror_mode": {
    "name": "ipython",
    "version": 3
   },
   "file_extension": ".py",
   "mimetype": "text/x-python",
   "name": "python",
   "nbconvert_exporter": "python",
   "pygments_lexer": "ipython3",
   "version": "3.13.2"
  }
 },
 "nbformat": 4,
 "nbformat_minor": 5
}
